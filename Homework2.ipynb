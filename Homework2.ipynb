{
 "metadata": {
  "orig_nbformat": 2,
  "kernelspec": {
   "name": "pythonjvsc74a57bd07f4cd40b4d413f3bf6158ea340db1c36fe650bd27f789f4626249f5d9516cf26",
   "display_name": "Python 3.8.5  ('venv': venv)"
  },
  "metadata": {
   "interpreter": {
    "hash": "e666d85bbe69775e71c2a2079f1c014a177cfd46e503f4c5f7e2cb42577bd69a"
   }
  }
 },
 "nbformat": 4,
 "nbformat_minor": 2,
 "cells": [
  {
   "cell_type": "code",
   "execution_count": 1,
   "metadata": {},
   "outputs": [],
   "source": [
    "import numpy as np\n",
    "import matplotlib.pyplot as plt\n",
    "from functools import reduce\n",
    "import seaborn as sns"
   ]
  },
  {
   "cell_type": "code",
   "execution_count": 70,
   "metadata": {},
   "outputs": [],
   "source": [
    "NITEM = 3\n",
    "MAXINV = 5\n",
    "NSTATES = MAXINV**NITEM\n",
    "PRODUCTION = 1\n",
    "GAMMA = 0.95"
   ]
  },
  {
   "cell_type": "code",
   "execution_count": 19,
   "metadata": {},
   "outputs": [],
   "source": [
    "def create_single_transition_prob_matrix(demand_pmf, production):\n",
    "    demand_max = len(demand_pmf)-1\n",
    "    demand_pmf = np.pad(np.flip(demand_pmf),(production,MAXINV-1))/np.sum(demand_pmf)\n",
    "    rolled = np.zeros((MAXINV,len(demand_pmf)))\n",
    "    rolled[0,:] = demand_pmf\n",
    "    for i in range(1,MAXINV):\n",
    "        rolled[i,1:] = rolled[i-1,:-1]\n",
    "    tok = rolled[:,demand_max:demand_max+MAXINV]\n",
    "    tok[:,0] += np.sum(rolled[:,:demand_max],1)\n",
    "    tok[:,-1] += np.sum(rolled[:,demand_max+MAXINV:],1)\n",
    "    assert np.allclose(np.sum(tok,1),1)\n",
    "    return tok"
   ]
  },
  {
   "cell_type": "code",
   "execution_count": 24,
   "metadata": {},
   "outputs": [],
   "source": [
    "from scipy.linalg import toeplitz\n",
    "#demand_pmf = np.asarray([2,3,1])/6\n",
    "demand_pmf = np.asarray([1,1,1])/3\n",
    "\n",
    "def constructPI():\n",
    "    # La matriciona Pi soi può ottenere con il prodotto di kronecker.\n",
    "    # token[1] indica la matrice di transizione con solo un item e azione \"non fare nulla\", mentre token[0] con azione \"ordinare\"\n",
    "    # La posizione nel kron indica se ordinare o no l'item i-esimo\n",
    "\n",
    "    demand_pmf = np.asarray([1,2,1])\n",
    "    tok_null = create_single_transition_prob_matrix(demand_pmf,0)\n",
    "    tok_action = create_single_transition_prob_matrix(demand_pmf,PRODUCTION)\n",
    "\n",
    "    PI = np.zeros((NITEM+1,NSTATES,NSTATES)) #cambio notazione pi(i,a,j) -> pi(a,i,j)\n",
    "    for a in range(NITEM+1):\n",
    "        PI[a] = reduce(np.kron, [tok_null if i != a else tok_action for i in range(NITEM)])\n",
    "    assert np.allclose(PI.sum(2),1)\n",
    "    return PI\n",
    "\n",
    "def constructF():\n",
    "    F = np.zeros((NITEM+1,NSTATES))\n",
    "    for action in range(NITEM+1):\n",
    "        for i in range(NSTATES):\n",
    "            \n",
    "            state = list(np.unravel_index(i,tuple([MAXINV]*NITEM)))\n",
    "            # Applico l'azione\n",
    "            # TODO: aggiungere costo ordine: F[action,i] += ...\n",
    "            if action == NITEM:\n",
    "                #do nothing\n",
    "                pass\n",
    "            else:\n",
    "                #production\n",
    "                state[action] += PRODUCTION\n",
    "\n",
    "            # I costi sono lineari e le domande indipendenti\n",
    "            for item in range(NITEM):\n",
    "                for demand, prob in enumerate(demand_pmf):\n",
    "                    unmet_demand = -min(state[item]-demand,0)\n",
    "                    assert unmet_demand >= 0\n",
    "                    newstate = np.clip(state[item]-demand,0,MAXINV)\n",
    "                    cost = 3*unmet_demand + newstate\n",
    "                    F[action,i] += cost*prob\n",
    "    return F"
   ]
  },
  {
   "cell_type": "code",
   "execution_count": 61,
   "metadata": {},
   "outputs": [
    {
     "output_type": "execute_result",
     "data": {
      "text/plain": [
       "array([18., 13., 12., 15., 18., 13.,  8.,  7., 10., 13., 12.,  7.,  6.,\n",
       "        9., 12., 15., 10.,  9., 12., 15., 18., 13., 12., 15., 18.])"
      ]
     },
     "metadata": {},
     "execution_count": 61
    }
   ],
   "source": [
    "3*constructF()[-1]"
   ]
  },
  {
   "cell_type": "code",
   "execution_count": 71,
   "metadata": {},
   "outputs": [
    {
     "output_type": "stream",
     "name": "stdout",
     "text": [
      "{22,17,16,19,22,17,12,11,14,17,16,11,10,13,16,19,14,13,16,19,22,17,16,19,22,21,16,15,18,21,16,11,10,13,16,15,10,9,12,15,18,13,12,15,18,21,16,15,18,21,24,19,18,21,24,19,14,13,16,19,18,13,12,15,18,21,16,15,18,21,24,19,18,21,24,27,22,21,24,27,22,17,16,19,22,21,16,15,18,21,24,19,18,21,24,27,22,21,24,27,30,25,24,27,30,25,20,19,22,25,24,19,18,21,24,27,22,21,24,27,30,25,24,27,30,},{22,17,16,19,22,21,16,15,18,21,24,19,18,21,24,27,22,21,24,27,30,25,24,27,30,17,12,11,14,17,16,11,10,13,16,19,14,13,16,19,22,17,16,19,22,25,20,19,22,25,16,11,10,13,16,15,10,9,12,15,18,13,12,15,18,21,16,15,18,21,24,19,18,21,24,19,14,13,16,19,18,13,12,15,18,21,16,15,18,21,24,19,18,21,24,27,22,21,24,27,22,17,16,19,22,21,16,15,18,21,24,19,18,21,24,27,22,21,24,27,30,25,24,27,30,},{22,21,24,27,30,17,16,19,22,25,16,15,18,21,24,19,18,21,24,27,22,21,24,27,30,17,16,19,22,25,12,11,14,17,20,11,10,13,16,19,14,13,16,19,22,17,16,19,22,25,16,15,18,21,24,11,10,13,16,19,10,9,12,15,18,13,12,15,18,21,16,15,18,21,24,19,18,21,24,27,14,13,16,19,22,13,12,15,18,21,16,15,18,21,24,19,18,21,24,27,22,21,24,27,30,17,16,19,22,25,16,15,18,21,24,19,18,21,24,27,22,21,24,27,30,},{27,22,21,24,27,22,17,16,19,22,21,16,15,18,21,24,19,18,21,24,27,22,21,24,27,22,17,16,19,22,17,12,11,14,17,16,11,10,13,16,19,14,13,16,19,22,17,16,19,22,21,16,15,18,21,16,11,10,13,16,15,10,9,12,15,18,13,12,15,18,21,16,15,18,21,24,19,18,21,24,19,14,13,16,19,18,13,12,15,18,21,16,15,18,21,24,19,18,21,24,27,22,21,24,27,22,17,16,19,22,21,16,15,18,21,24,19,18,21,24,27,22,21,24,27,},"
     ]
    }
   ],
   "source": [
    "F = (3*constructF())\n",
    "assert np.allclose(F,F.round().astype(int))\n",
    "F = F.round().astype(int)\n",
    "for f in F:\n",
    "    print('{',end='')\n",
    "    for ff in f:\n",
    "        print(ff,end=',')\n",
    "    print('},',end='')\n"
   ]
  },
  {
   "cell_type": "code",
   "execution_count": 45,
   "metadata": {},
   "outputs": [
    {
     "output_type": "execute_result",
     "data": {
      "text/plain": [
       "[(0, 0), (0, 1), (0, 2), (1, 0), (1, 1), (1, 2), (2, 0), (2, 1), (2, 2)]"
      ]
     },
     "metadata": {},
     "execution_count": 45
    }
   ],
   "source": [
    "from itertools import product\n"
   ]
  },
  {
   "cell_type": "code",
   "execution_count": 31,
   "metadata": {},
   "outputs": [
    {
     "output_type": "execute_result",
     "data": {
      "text/plain": [
       "array([0.66666667, 0.66666667, 0.66666667])"
      ]
     },
     "metadata": {},
     "execution_count": 31
    }
   ],
   "source": [
    "1-demand_pmf"
   ]
  },
  {
   "cell_type": "code",
   "execution_count": 27,
   "metadata": {},
   "outputs": [],
   "source": [
    "def assess_policy(policy):\n",
    "    idxs = np.arange(NSTATES)\n",
    "    fmu = F[policy[idxs],idxs]\n",
    "    pimu = PI[policy[idxs],idxs,:]\n",
    "    assert np.allclose(pimu.sum(1),1)\n",
    "    return np.linalg.solve(np.eye(NSTATES)-GAMMA*pimu,fmu)\n",
    "    print(fmu.shape, pimu.shape)"
   ]
  },
  {
   "cell_type": "code",
   "execution_count": 28,
   "metadata": {
    "tags": []
   },
   "outputs": [
    {
     "output_type": "stream",
     "name": "stdout",
     "text": [
      "470\n[[0 0 0 0 0]\n [1 0 0 2 2]\n [1 1 2 2 2]\n [1 2 2 2 2]\n [1 2 2 2 2]]\nTrue\n"
     ]
    }
   ],
   "source": [
    "#a == NITEM -> a is action \"do nothing\"\n",
    "PI = constructPI() #cambio notazione pi(i,a,j) -> pi(a,i,j)\n",
    "F = constructF() #cambio notazione f(i,a) -> f(a,i)\n",
    "V = np.zeros(NSTATES)\n",
    "\n",
    "EPS = 1e-10\n",
    "MAXITER = 4000\n",
    "\n",
    "k = 0\n",
    "while k < MAXITER:\n",
    "    VNEW = np.min(F+GAMMA*PI.dot(V),0)\n",
    "    if np.allclose(V,VNEW, atol = EPS, rtol = 0):\n",
    "        V = VNEW\n",
    "        break\n",
    "    else:\n",
    "        k = k+1\n",
    "    V = VNEW\n",
    "mu_opt = np.argmin(F+GAMMA*PI.dot(V),0)\n",
    "\n",
    "\n",
    "print(k)\n",
    "print(mu_opt.reshape([MAXINV]*NITEM))\n",
    "print(np.allclose(V,assess_policy(mu_opt)))"
   ]
  },
  {
   "cell_type": "code",
   "execution_count": 36,
   "metadata": {
    "tags": []
   },
   "outputs": [
    {
     "output_type": "execute_result",
     "data": {
      "text/plain": [
       "[]"
      ]
     },
     "metadata": {},
     "execution_count": 36
    },
    {
     "output_type": "display_data",
     "data": {
      "text/plain": "<Figure size 432x288 with 1 Axes>",
      "image/svg+xml": "<?xml version=\"1.0\" encoding=\"utf-8\" standalone=\"no\"?>\n<!DOCTYPE svg PUBLIC \"-//W3C//DTD SVG 1.1//EN\"\n  \"http://www.w3.org/Graphics/SVG/1.1/DTD/svg11.dtd\">\n<svg height=\"248.518125pt\" version=\"1.1\" viewBox=\"0 0 381.65 248.518125\" width=\"381.65pt\" xmlns=\"http://www.w3.org/2000/svg\" xmlns:xlink=\"http://www.w3.org/1999/xlink\">\n <metadata>\n  <rdf:RDF xmlns:cc=\"http://creativecommons.org/ns#\" xmlns:dc=\"http://purl.org/dc/elements/1.1/\" xmlns:rdf=\"http://www.w3.org/1999/02/22-rdf-syntax-ns#\">\n   <cc:Work>\n    <dc:type rdf:resource=\"http://purl.org/dc/dcmitype/StillImage\"/>\n    <dc:date>2021-05-11T19:53:41.675359</dc:date>\n    <dc:format>image/svg+xml</dc:format>\n    <dc:creator>\n     <cc:Agent>\n      <dc:title>Matplotlib v3.4.1, https://matplotlib.org/</dc:title>\n     </cc:Agent>\n    </dc:creator>\n   </cc:Work>\n  </rdf:RDF>\n </metadata>\n <defs>\n  <style type=\"text/css\">*{stroke-linecap:butt;stroke-linejoin:round;}</style>\n </defs>\n <g id=\"figure_1\">\n  <g id=\"patch_1\">\n   <path d=\"M -0 248.518125 \nL 381.65 248.518125 \nL 381.65 0 \nL -0 0 \nz\n\" style=\"fill:none;\"/>\n  </g>\n  <g id=\"axes_1\">\n   <g id=\"patch_2\">\n    <path d=\"M 39.65 224.64 \nL 374.45 224.64 \nL 374.45 7.2 \nL 39.65 7.2 \nz\n\" style=\"fill:#ffffff;\"/>\n   </g>\n   <g id=\"patch_3\">\n    <path clip-path=\"url(#p84f8712659)\" d=\"M 54.868182 224.64 \nL 58.967355 224.64 \nL 58.967355 224.64 \nL 54.868182 224.64 \nz\n\" style=\"fill:#ff0000;\"/>\n   </g>\n   <g id=\"patch_4\">\n    <path clip-path=\"url(#p84f8712659)\" d=\"M 70.240083 224.64 \nL 74.339256 224.64 \nL 74.339256 224.64 \nL 70.240083 224.64 \nz\n\" style=\"fill:#ff0000;\"/>\n   </g>\n   <g id=\"patch_5\">\n    <path clip-path=\"url(#p84f8712659)\" d=\"M 85.611983 224.64 \nL 89.711157 224.64 \nL 89.711157 222.14145 \nL 85.611983 222.14145 \nz\n\" style=\"fill:#ff0000;\"/>\n   </g>\n   <g id=\"patch_6\">\n    <path clip-path=\"url(#p84f8712659)\" d=\"M 100.983884 224.64 \nL 105.083058 224.64 \nL 105.083058 210.08962 \nL 100.983884 210.08962 \nz\n\" style=\"fill:#ff0000;\"/>\n   </g>\n   <g id=\"patch_7\">\n    <path clip-path=\"url(#p84f8712659)\" d=\"M 116.355785 224.64 \nL 120.454959 224.64 \nL 120.454959 164.38085 \nL 116.355785 164.38085 \nz\n\" style=\"fill:#ff0000;\"/>\n   </g>\n   <g id=\"patch_8\">\n    <path clip-path=\"url(#p84f8712659)\" d=\"M 131.727686 224.64 \nL 135.82686 224.64 \nL 135.82686 87.660663 \nL 131.727686 87.660663 \nz\n\" style=\"fill:#ff0000;\"/>\n   </g>\n   <g id=\"patch_9\">\n    <path clip-path=\"url(#p84f8712659)\" d=\"M 147.099587 224.64 \nL 151.19876 224.64 \nL 151.19876 45.479258 \nL 147.099587 45.479258 \nz\n\" style=\"fill:#ff0000;\"/>\n   </g>\n   <g id=\"patch_10\">\n    <path clip-path=\"url(#p84f8712659)\" d=\"M 162.471488 224.64 \nL 166.570661 224.64 \nL 166.570661 57.825035 \nL 162.471488 57.825035 \nz\n\" style=\"fill:#ff0000;\"/>\n   </g>\n   <g id=\"patch_11\">\n    <path clip-path=\"url(#p84f8712659)\" d=\"M 177.843388 224.64 \nL 181.942562 224.64 \nL 181.942562 114.850768 \nL 177.843388 114.850768 \nz\n\" style=\"fill:#ff0000;\"/>\n   </g>\n   <g id=\"patch_12\">\n    <path clip-path=\"url(#p84f8712659)\" d=\"M 193.215289 224.64 \nL 197.314463 224.64 \nL 197.314463 178.490309 \nL 193.215289 178.490309 \nz\n\" style=\"fill:#ff0000;\"/>\n   </g>\n   <g id=\"patch_13\">\n    <path clip-path=\"url(#p84f8712659)\" d=\"M 208.58719 224.64 \nL 212.686364 224.64 \nL 212.686364 209.942646 \nL 208.58719 209.942646 \nz\n\" style=\"fill:#ff0000;\"/>\n   </g>\n   <g id=\"patch_14\">\n    <path clip-path=\"url(#p84f8712659)\" d=\"M 223.959091 224.64 \nL 228.058264 224.64 \nL 228.058264 221.406582 \nL 223.959091 221.406582 \nz\n\" style=\"fill:#ff0000;\"/>\n   </g>\n   <g id=\"patch_15\">\n    <path clip-path=\"url(#p84f8712659)\" d=\"M 239.330992 224.64 \nL 243.430165 224.64 \nL 243.430165 223.905132 \nL 239.330992 223.905132 \nz\n\" style=\"fill:#ff0000;\"/>\n   </g>\n   <g id=\"patch_16\">\n    <path clip-path=\"url(#p84f8712659)\" d=\"M 254.702893 224.64 \nL 258.802066 224.64 \nL 258.802066 224.64 \nL 254.702893 224.64 \nz\n\" style=\"fill:#ff0000;\"/>\n   </g>\n   <g id=\"patch_17\">\n    <path clip-path=\"url(#p84f8712659)\" d=\"M 270.074793 224.64 \nL 274.173967 224.64 \nL 274.173967 224.64 \nL 270.074793 224.64 \nz\n\" style=\"fill:#ff0000;\"/>\n   </g>\n   <g id=\"patch_18\">\n    <path clip-path=\"url(#p84f8712659)\" d=\"M 285.446694 224.64 \nL 289.545868 224.64 \nL 289.545868 224.64 \nL 285.446694 224.64 \nz\n\" style=\"fill:#ff0000;\"/>\n   </g>\n   <g id=\"patch_19\">\n    <path clip-path=\"url(#p84f8712659)\" d=\"M 300.818595 224.64 \nL 304.917769 224.64 \nL 304.917769 224.64 \nL 300.818595 224.64 \nz\n\" style=\"fill:#ff0000;\"/>\n   </g>\n   <g id=\"patch_20\">\n    <path clip-path=\"url(#p84f8712659)\" d=\"M 316.190496 224.64 \nL 320.289669 224.64 \nL 320.289669 224.64 \nL 316.190496 224.64 \nz\n\" style=\"fill:#ff0000;\"/>\n   </g>\n   <g id=\"patch_21\">\n    <path clip-path=\"url(#p84f8712659)\" d=\"M 331.562397 224.64 \nL 335.66157 224.64 \nL 335.66157 224.64 \nL 331.562397 224.64 \nz\n\" style=\"fill:#ff0000;\"/>\n   </g>\n   <g id=\"patch_22\">\n    <path clip-path=\"url(#p84f8712659)\" d=\"M 346.934298 224.64 \nL 351.033471 224.64 \nL 351.033471 224.64 \nL 346.934298 224.64 \nz\n\" style=\"fill:#ff0000;\"/>\n   </g>\n   <g id=\"patch_23\">\n    <path clip-path=\"url(#p84f8712659)\" d=\"M 58.967355 224.64 \nL 63.066529 224.64 \nL 63.066529 224.64 \nL 58.967355 224.64 \nz\n\" style=\"fill:#008000;\"/>\n   </g>\n   <g id=\"patch_24\">\n    <path clip-path=\"url(#p84f8712659)\" d=\"M 74.339256 224.64 \nL 78.43843 224.64 \nL 78.43843 224.64 \nL 74.339256 224.64 \nz\n\" style=\"fill:#008000;\"/>\n   </g>\n   <g id=\"patch_25\">\n    <path clip-path=\"url(#p84f8712659)\" d=\"M 89.711157 224.64 \nL 93.810331 224.64 \nL 93.810331 224.64 \nL 89.711157 224.64 \nz\n\" style=\"fill:#008000;\"/>\n   </g>\n   <g id=\"patch_26\">\n    <path clip-path=\"url(#p84f8712659)\" d=\"M 105.083058 224.64 \nL 109.182231 224.64 \nL 109.182231 224.64 \nL 105.083058 224.64 \nz\n\" style=\"fill:#008000;\"/>\n   </g>\n   <g id=\"patch_27\">\n    <path clip-path=\"url(#p84f8712659)\" d=\"M 120.454959 224.64 \nL 124.554132 224.64 \nL 124.554132 224.64 \nL 120.454959 224.64 \nz\n\" style=\"fill:#008000;\"/>\n   </g>\n   <g id=\"patch_28\">\n    <path clip-path=\"url(#p84f8712659)\" d=\"M 135.82686 224.64 \nL 139.926033 224.64 \nL 139.926033 224.64 \nL 135.82686 224.64 \nz\n\" style=\"fill:#008000;\"/>\n   </g>\n   <g id=\"patch_29\">\n    <path clip-path=\"url(#p84f8712659)\" d=\"M 151.19876 224.64 \nL 155.297934 224.64 \nL 155.297934 224.052106 \nL 151.19876 224.052106 \nz\n\" style=\"fill:#008000;\"/>\n   </g>\n   <g id=\"patch_30\">\n    <path clip-path=\"url(#p84f8712659)\" d=\"M 166.570661 224.64 \nL 170.669835 224.64 \nL 170.669835 223.317238 \nL 166.570661 223.317238 \nz\n\" style=\"fill:#008000;\"/>\n   </g>\n   <g id=\"patch_31\">\n    <path clip-path=\"url(#p84f8712659)\" d=\"M 181.942562 224.64 \nL 186.041736 224.64 \nL 186.041736 218.026191 \nL 181.942562 218.026191 \nz\n\" style=\"fill:#008000;\"/>\n   </g>\n   <g id=\"patch_32\">\n    <path clip-path=\"url(#p84f8712659)\" d=\"M 197.314463 224.64 \nL 201.413636 224.64 \nL 201.413636 197.302922 \nL 197.314463 197.302922 \nz\n\" style=\"fill:#008000;\"/>\n   </g>\n   <g id=\"patch_33\">\n    <path clip-path=\"url(#p84f8712659)\" d=\"M 212.686364 224.64 \nL 216.785537 224.64 \nL 216.785537 157.914014 \nL 212.686364 157.914014 \nz\n\" style=\"fill:#008000;\"/>\n   </g>\n   <g id=\"patch_34\">\n    <path clip-path=\"url(#p84f8712659)\" d=\"M 228.058264 224.64 \nL 232.157438 224.64 \nL 232.157438 100.153414 \nL 228.058264 100.153414 \nz\n\" style=\"fill:#008000;\"/>\n   </g>\n   <g id=\"patch_35\">\n    <path clip-path=\"url(#p84f8712659)\" d=\"M 243.430165 224.64 \nL 247.529339 224.64 \nL 247.529339 68.260156 \nL 243.430165 68.260156 \nz\n\" style=\"fill:#008000;\"/>\n   </g>\n   <g id=\"patch_36\">\n    <path clip-path=\"url(#p84f8712659)\" d=\"M 258.802066 224.64 \nL 262.90124 224.64 \nL 262.90124 67.378315 \nL 258.802066 67.378315 \nz\n\" style=\"fill:#008000;\"/>\n   </g>\n   <g id=\"patch_37\">\n    <path clip-path=\"url(#p84f8712659)\" d=\"M 274.173967 224.64 \nL 278.27314 224.64 \nL 278.27314 115.585635 \nL 274.173967 115.585635 \nz\n\" style=\"fill:#008000;\"/>\n   </g>\n   <g id=\"patch_38\">\n    <path clip-path=\"url(#p84f8712659)\" d=\"M 289.545868 224.64 \nL 293.645041 224.64 \nL 293.645041 170.112818 \nL 289.545868 170.112818 \nz\n\" style=\"fill:#008000;\"/>\n   </g>\n   <g id=\"patch_39\">\n    <path clip-path=\"url(#p84f8712659)\" d=\"M 304.917769 224.64 \nL 309.016942 224.64 \nL 309.016942 202.446996 \nL 304.917769 202.446996 \nz\n\" style=\"fill:#008000;\"/>\n   </g>\n   <g id=\"patch_40\">\n    <path clip-path=\"url(#p84f8712659)\" d=\"M 320.289669 224.64 \nL 324.388843 224.64 \nL 324.388843 217.879217 \nL 320.289669 217.879217 \nz\n\" style=\"fill:#008000;\"/>\n   </g>\n   <g id=\"patch_41\">\n    <path clip-path=\"url(#p84f8712659)\" d=\"M 335.66157 224.64 \nL 339.760744 224.64 \nL 339.760744 223.317238 \nL 335.66157 223.317238 \nz\n\" style=\"fill:#008000;\"/>\n   </g>\n   <g id=\"patch_42\">\n    <path clip-path=\"url(#p84f8712659)\" d=\"M 351.033471 224.64 \nL 355.132645 224.64 \nL 355.132645 224.346053 \nL 351.033471 224.346053 \nz\n\" style=\"fill:#008000;\"/>\n   </g>\n   <g id=\"patch_43\">\n    <path clip-path=\"url(#p84f8712659)\" d=\"M 63.066529 224.64 \nL 67.165702 224.64 \nL 67.165702 224.493026 \nL 63.066529 224.493026 \nz\n\" style=\"fill:#0000ff;\"/>\n   </g>\n   <g id=\"patch_44\">\n    <path clip-path=\"url(#p84f8712659)\" d=\"M 78.43843 224.64 \nL 82.537603 224.64 \nL 82.537603 220.524741 \nL 78.43843 220.524741 \nz\n\" style=\"fill:#0000ff;\"/>\n   </g>\n   <g id=\"patch_45\">\n    <path clip-path=\"url(#p84f8712659)\" d=\"M 93.810331 224.64 \nL 97.909504 224.64 \nL 97.909504 198.772657 \nL 93.810331 198.772657 \nz\n\" style=\"fill:#0000ff;\"/>\n   </g>\n   <g id=\"patch_46\">\n    <path clip-path=\"url(#p84f8712659)\" d=\"M 109.182231 224.64 \nL 113.281405 224.64 \nL 113.281405 126.020756 \nL 109.182231 126.020756 \nz\n\" style=\"fill:#0000ff;\"/>\n   </g>\n   <g id=\"patch_47\">\n    <path clip-path=\"url(#p84f8712659)\" d=\"M 124.554132 224.64 \nL 128.653306 224.64 \nL 128.653306 50.623332 \nL 124.554132 50.623332 \nz\n\" style=\"fill:#0000ff;\"/>\n   </g>\n   <g id=\"patch_48\">\n    <path clip-path=\"url(#p84f8712659)\" d=\"M 139.926033 224.64 \nL 144.025207 224.64 \nL 144.025207 17.554286 \nL 139.926033 17.554286 \nz\n\" style=\"fill:#0000ff;\"/>\n   </g>\n   <g id=\"patch_49\">\n    <path clip-path=\"url(#p84f8712659)\" d=\"M 155.297934 224.64 \nL 159.397107 224.64 \nL 159.397107 89.571319 \nL 155.297934 89.571319 \nz\n\" style=\"fill:#0000ff;\"/>\n   </g>\n   <g id=\"patch_50\">\n    <path clip-path=\"url(#p84f8712659)\" d=\"M 170.669835 224.64 \nL 174.769008 224.64 \nL 174.769008 159.971644 \nL 170.669835 159.971644 \nz\n\" style=\"fill:#0000ff;\"/>\n   </g>\n   <g id=\"patch_51\">\n    <path clip-path=\"url(#p84f8712659)\" d=\"M 186.041736 224.64 \nL 190.140909 224.64 \nL 190.140909 203.622784 \nL 186.041736 203.622784 \nz\n\" style=\"fill:#0000ff;\"/>\n   </g>\n   <g id=\"patch_52\">\n    <path clip-path=\"url(#p84f8712659)\" d=\"M 201.413636 224.64 \nL 205.51281 224.64 \nL 205.51281 220.818688 \nL 201.413636 220.818688 \nz\n\" style=\"fill:#0000ff;\"/>\n   </g>\n   <g id=\"patch_53\">\n    <path clip-path=\"url(#p84f8712659)\" d=\"M 216.785537 224.64 \nL 220.884711 224.64 \nL 220.884711 224.199079 \nL 216.785537 224.199079 \nz\n\" style=\"fill:#0000ff;\"/>\n   </g>\n   <g id=\"patch_54\">\n    <path clip-path=\"url(#p84f8712659)\" d=\"M 232.157438 224.64 \nL 236.256612 224.64 \nL 236.256612 224.64 \nL 232.157438 224.64 \nz\n\" style=\"fill:#0000ff;\"/>\n   </g>\n   <g id=\"patch_55\">\n    <path clip-path=\"url(#p84f8712659)\" d=\"M 247.529339 224.64 \nL 251.628512 224.64 \nL 251.628512 224.64 \nL 247.529339 224.64 \nz\n\" style=\"fill:#0000ff;\"/>\n   </g>\n   <g id=\"patch_56\">\n    <path clip-path=\"url(#p84f8712659)\" d=\"M 262.90124 224.64 \nL 267.000413 224.64 \nL 267.000413 224.64 \nL 262.90124 224.64 \nz\n\" style=\"fill:#0000ff;\"/>\n   </g>\n   <g id=\"patch_57\">\n    <path clip-path=\"url(#p84f8712659)\" d=\"M 278.27314 224.64 \nL 282.372314 224.64 \nL 282.372314 224.64 \nL 278.27314 224.64 \nz\n\" style=\"fill:#0000ff;\"/>\n   </g>\n   <g id=\"patch_58\">\n    <path clip-path=\"url(#p84f8712659)\" d=\"M 293.645041 224.64 \nL 297.744215 224.64 \nL 297.744215 224.64 \nL 293.645041 224.64 \nz\n\" style=\"fill:#0000ff;\"/>\n   </g>\n   <g id=\"patch_59\">\n    <path clip-path=\"url(#p84f8712659)\" d=\"M 309.016942 224.64 \nL 313.116116 224.64 \nL 313.116116 224.64 \nL 309.016942 224.64 \nz\n\" style=\"fill:#0000ff;\"/>\n   </g>\n   <g id=\"patch_60\">\n    <path clip-path=\"url(#p84f8712659)\" d=\"M 324.388843 224.64 \nL 328.488017 224.64 \nL 328.488017 224.64 \nL 324.388843 224.64 \nz\n\" style=\"fill:#0000ff;\"/>\n   </g>\n   <g id=\"patch_61\">\n    <path clip-path=\"url(#p84f8712659)\" d=\"M 339.760744 224.64 \nL 343.859917 224.64 \nL 343.859917 224.64 \nL 339.760744 224.64 \nz\n\" style=\"fill:#0000ff;\"/>\n   </g>\n   <g id=\"patch_62\">\n    <path clip-path=\"url(#p84f8712659)\" d=\"M 355.132645 224.64 \nL 359.231818 224.64 \nL 359.231818 224.64 \nL 355.132645 224.64 \nz\n\" style=\"fill:#0000ff;\"/>\n   </g>\n   <g id=\"matplotlib.axis_1\">\n    <g id=\"xtick_1\">\n     <g id=\"line2d_1\">\n      <defs>\n       <path d=\"M 0 0 \nL 0 3.5 \n\" id=\"mc2efeb3e66\" style=\"stroke:#000000;stroke-width:0.8;\"/>\n      </defs>\n      <g>\n       <use style=\"stroke:#000000;stroke-width:0.8;\" x=\"45.455735\" xlink:href=\"#mc2efeb3e66\" y=\"224.64\"/>\n      </g>\n     </g>\n     <g id=\"text_1\">\n      <!-- 40 -->\n      <g transform=\"translate(39.093235 239.238438)scale(0.1 -0.1)\">\n       <defs>\n        <path d=\"M 2419 4116 \nL 825 1625 \nL 2419 1625 \nL 2419 4116 \nz\nM 2253 4666 \nL 3047 4666 \nL 3047 1625 \nL 3713 1625 \nL 3713 1100 \nL 3047 1100 \nL 3047 0 \nL 2419 0 \nL 2419 1100 \nL 313 1100 \nL 313 1709 \nL 2253 4666 \nz\n\" id=\"DejaVuSans-34\" transform=\"scale(0.015625)\"/>\n        <path d=\"M 2034 4250 \nQ 1547 4250 1301 3770 \nQ 1056 3291 1056 2328 \nQ 1056 1369 1301 889 \nQ 1547 409 2034 409 \nQ 2525 409 2770 889 \nQ 3016 1369 3016 2328 \nQ 3016 3291 2770 3770 \nQ 2525 4250 2034 4250 \nz\nM 2034 4750 \nQ 2819 4750 3233 4129 \nQ 3647 3509 3647 2328 \nQ 3647 1150 3233 529 \nQ 2819 -91 2034 -91 \nQ 1250 -91 836 529 \nQ 422 1150 422 2328 \nQ 422 3509 836 4129 \nQ 1250 4750 2034 4750 \nz\n\" id=\"DejaVuSans-30\" transform=\"scale(0.015625)\"/>\n       </defs>\n       <use xlink:href=\"#DejaVuSans-34\"/>\n       <use x=\"63.623047\" xlink:href=\"#DejaVuSans-30\"/>\n      </g>\n     </g>\n    </g>\n    <g id=\"xtick_2\">\n     <g id=\"line2d_2\">\n      <g>\n       <use style=\"stroke:#000000;stroke-width:0.8;\" x=\"103.169907\" xlink:href=\"#mc2efeb3e66\" y=\"224.64\"/>\n      </g>\n     </g>\n     <g id=\"text_2\">\n      <!-- 60 -->\n      <g transform=\"translate(96.807407 239.238438)scale(0.1 -0.1)\">\n       <defs>\n        <path d=\"M 2113 2584 \nQ 1688 2584 1439 2293 \nQ 1191 2003 1191 1497 \nQ 1191 994 1439 701 \nQ 1688 409 2113 409 \nQ 2538 409 2786 701 \nQ 3034 994 3034 1497 \nQ 3034 2003 2786 2293 \nQ 2538 2584 2113 2584 \nz\nM 3366 4563 \nL 3366 3988 \nQ 3128 4100 2886 4159 \nQ 2644 4219 2406 4219 \nQ 1781 4219 1451 3797 \nQ 1122 3375 1075 2522 \nQ 1259 2794 1537 2939 \nQ 1816 3084 2150 3084 \nQ 2853 3084 3261 2657 \nQ 3669 2231 3669 1497 \nQ 3669 778 3244 343 \nQ 2819 -91 2113 -91 \nQ 1303 -91 875 529 \nQ 447 1150 447 2328 \nQ 447 3434 972 4092 \nQ 1497 4750 2381 4750 \nQ 2619 4750 2861 4703 \nQ 3103 4656 3366 4563 \nz\n\" id=\"DejaVuSans-36\" transform=\"scale(0.015625)\"/>\n       </defs>\n       <use xlink:href=\"#DejaVuSans-36\"/>\n       <use x=\"63.623047\" xlink:href=\"#DejaVuSans-30\"/>\n      </g>\n     </g>\n    </g>\n    <g id=\"xtick_3\">\n     <g id=\"line2d_3\">\n      <g>\n       <use style=\"stroke:#000000;stroke-width:0.8;\" x=\"160.884079\" xlink:href=\"#mc2efeb3e66\" y=\"224.64\"/>\n      </g>\n     </g>\n     <g id=\"text_3\">\n      <!-- 80 -->\n      <g transform=\"translate(154.521579 239.238438)scale(0.1 -0.1)\">\n       <defs>\n        <path d=\"M 2034 2216 \nQ 1584 2216 1326 1975 \nQ 1069 1734 1069 1313 \nQ 1069 891 1326 650 \nQ 1584 409 2034 409 \nQ 2484 409 2743 651 \nQ 3003 894 3003 1313 \nQ 3003 1734 2745 1975 \nQ 2488 2216 2034 2216 \nz\nM 1403 2484 \nQ 997 2584 770 2862 \nQ 544 3141 544 3541 \nQ 544 4100 942 4425 \nQ 1341 4750 2034 4750 \nQ 2731 4750 3128 4425 \nQ 3525 4100 3525 3541 \nQ 3525 3141 3298 2862 \nQ 3072 2584 2669 2484 \nQ 3125 2378 3379 2068 \nQ 3634 1759 3634 1313 \nQ 3634 634 3220 271 \nQ 2806 -91 2034 -91 \nQ 1263 -91 848 271 \nQ 434 634 434 1313 \nQ 434 1759 690 2068 \nQ 947 2378 1403 2484 \nz\nM 1172 3481 \nQ 1172 3119 1398 2916 \nQ 1625 2713 2034 2713 \nQ 2441 2713 2670 2916 \nQ 2900 3119 2900 3481 \nQ 2900 3844 2670 4047 \nQ 2441 4250 2034 4250 \nQ 1625 4250 1398 4047 \nQ 1172 3844 1172 3481 \nz\n\" id=\"DejaVuSans-38\" transform=\"scale(0.015625)\"/>\n       </defs>\n       <use xlink:href=\"#DejaVuSans-38\"/>\n       <use x=\"63.623047\" xlink:href=\"#DejaVuSans-30\"/>\n      </g>\n     </g>\n    </g>\n    <g id=\"xtick_4\">\n     <g id=\"line2d_4\">\n      <g>\n       <use style=\"stroke:#000000;stroke-width:0.8;\" x=\"218.598251\" xlink:href=\"#mc2efeb3e66\" y=\"224.64\"/>\n      </g>\n     </g>\n     <g id=\"text_4\">\n      <!-- 100 -->\n      <g transform=\"translate(209.054501 239.238438)scale(0.1 -0.1)\">\n       <defs>\n        <path d=\"M 794 531 \nL 1825 531 \nL 1825 4091 \nL 703 3866 \nL 703 4441 \nL 1819 4666 \nL 2450 4666 \nL 2450 531 \nL 3481 531 \nL 3481 0 \nL 794 0 \nL 794 531 \nz\n\" id=\"DejaVuSans-31\" transform=\"scale(0.015625)\"/>\n       </defs>\n       <use xlink:href=\"#DejaVuSans-31\"/>\n       <use x=\"63.623047\" xlink:href=\"#DejaVuSans-30\"/>\n       <use x=\"127.246094\" xlink:href=\"#DejaVuSans-30\"/>\n      </g>\n     </g>\n    </g>\n    <g id=\"xtick_5\">\n     <g id=\"line2d_5\">\n      <g>\n       <use style=\"stroke:#000000;stroke-width:0.8;\" x=\"276.312423\" xlink:href=\"#mc2efeb3e66\" y=\"224.64\"/>\n      </g>\n     </g>\n     <g id=\"text_5\">\n      <!-- 120 -->\n      <g transform=\"translate(266.768673 239.238438)scale(0.1 -0.1)\">\n       <defs>\n        <path d=\"M 1228 531 \nL 3431 531 \nL 3431 0 \nL 469 0 \nL 469 531 \nQ 828 903 1448 1529 \nQ 2069 2156 2228 2338 \nQ 2531 2678 2651 2914 \nQ 2772 3150 2772 3378 \nQ 2772 3750 2511 3984 \nQ 2250 4219 1831 4219 \nQ 1534 4219 1204 4116 \nQ 875 4013 500 3803 \nL 500 4441 \nQ 881 4594 1212 4672 \nQ 1544 4750 1819 4750 \nQ 2544 4750 2975 4387 \nQ 3406 4025 3406 3419 \nQ 3406 3131 3298 2873 \nQ 3191 2616 2906 2266 \nQ 2828 2175 2409 1742 \nQ 1991 1309 1228 531 \nz\n\" id=\"DejaVuSans-32\" transform=\"scale(0.015625)\"/>\n       </defs>\n       <use xlink:href=\"#DejaVuSans-31\"/>\n       <use x=\"63.623047\" xlink:href=\"#DejaVuSans-32\"/>\n       <use x=\"127.246094\" xlink:href=\"#DejaVuSans-30\"/>\n      </g>\n     </g>\n    </g>\n    <g id=\"xtick_6\">\n     <g id=\"line2d_6\">\n      <g>\n       <use style=\"stroke:#000000;stroke-width:0.8;\" x=\"334.026595\" xlink:href=\"#mc2efeb3e66\" y=\"224.64\"/>\n      </g>\n     </g>\n     <g id=\"text_6\">\n      <!-- 140 -->\n      <g transform=\"translate(324.482845 239.238438)scale(0.1 -0.1)\">\n       <use xlink:href=\"#DejaVuSans-31\"/>\n       <use x=\"63.623047\" xlink:href=\"#DejaVuSans-34\"/>\n       <use x=\"127.246094\" xlink:href=\"#DejaVuSans-30\"/>\n      </g>\n     </g>\n    </g>\n   </g>\n   <g id=\"matplotlib.axis_2\">\n    <g id=\"ytick_1\">\n     <g id=\"line2d_7\">\n      <defs>\n       <path d=\"M 0 0 \nL -3.5 0 \n\" id=\"mc1d5f43cc8\" style=\"stroke:#000000;stroke-width:0.8;\"/>\n      </defs>\n      <g>\n       <use style=\"stroke:#000000;stroke-width:0.8;\" x=\"39.65\" xlink:href=\"#mc1d5f43cc8\" y=\"224.64\"/>\n      </g>\n     </g>\n     <g id=\"text_7\">\n      <!-- 0 -->\n      <g transform=\"translate(26.2875 228.439219)scale(0.1 -0.1)\">\n       <use xlink:href=\"#DejaVuSans-30\"/>\n      </g>\n     </g>\n    </g>\n    <g id=\"ytick_2\">\n     <g id=\"line2d_8\">\n      <g>\n       <use style=\"stroke:#000000;stroke-width:0.8;\" x=\"39.65\" xlink:href=\"#mc1d5f43cc8\" y=\"195.245293\"/>\n      </g>\n     </g>\n     <g id=\"text_8\">\n      <!-- 200 -->\n      <g transform=\"translate(13.5625 199.044511)scale(0.1 -0.1)\">\n       <use xlink:href=\"#DejaVuSans-32\"/>\n       <use x=\"63.623047\" xlink:href=\"#DejaVuSans-30\"/>\n       <use x=\"127.246094\" xlink:href=\"#DejaVuSans-30\"/>\n      </g>\n     </g>\n    </g>\n    <g id=\"ytick_3\">\n     <g id=\"line2d_9\">\n      <g>\n       <use style=\"stroke:#000000;stroke-width:0.8;\" x=\"39.65\" xlink:href=\"#mc1d5f43cc8\" y=\"165.850585\"/>\n      </g>\n     </g>\n     <g id=\"text_9\">\n      <!-- 400 -->\n      <g transform=\"translate(13.5625 169.649804)scale(0.1 -0.1)\">\n       <use xlink:href=\"#DejaVuSans-34\"/>\n       <use x=\"63.623047\" xlink:href=\"#DejaVuSans-30\"/>\n       <use x=\"127.246094\" xlink:href=\"#DejaVuSans-30\"/>\n      </g>\n     </g>\n    </g>\n    <g id=\"ytick_4\">\n     <g id=\"line2d_10\">\n      <g>\n       <use style=\"stroke:#000000;stroke-width:0.8;\" x=\"39.65\" xlink:href=\"#mc1d5f43cc8\" y=\"136.455878\"/>\n      </g>\n     </g>\n     <g id=\"text_10\">\n      <!-- 600 -->\n      <g transform=\"translate(13.5625 140.255096)scale(0.1 -0.1)\">\n       <use xlink:href=\"#DejaVuSans-36\"/>\n       <use x=\"63.623047\" xlink:href=\"#DejaVuSans-30\"/>\n       <use x=\"127.246094\" xlink:href=\"#DejaVuSans-30\"/>\n      </g>\n     </g>\n    </g>\n    <g id=\"ytick_5\">\n     <g id=\"line2d_11\">\n      <g>\n       <use style=\"stroke:#000000;stroke-width:0.8;\" x=\"39.65\" xlink:href=\"#mc1d5f43cc8\" y=\"107.06117\"/>\n      </g>\n     </g>\n     <g id=\"text_11\">\n      <!-- 800 -->\n      <g transform=\"translate(13.5625 110.860389)scale(0.1 -0.1)\">\n       <use xlink:href=\"#DejaVuSans-38\"/>\n       <use x=\"63.623047\" xlink:href=\"#DejaVuSans-30\"/>\n       <use x=\"127.246094\" xlink:href=\"#DejaVuSans-30\"/>\n      </g>\n     </g>\n    </g>\n    <g id=\"ytick_6\">\n     <g id=\"line2d_12\">\n      <g>\n       <use style=\"stroke:#000000;stroke-width:0.8;\" x=\"39.65\" xlink:href=\"#mc1d5f43cc8\" y=\"77.666463\"/>\n      </g>\n     </g>\n     <g id=\"text_12\">\n      <!-- 1000 -->\n      <g transform=\"translate(7.2 81.465681)scale(0.1 -0.1)\">\n       <use xlink:href=\"#DejaVuSans-31\"/>\n       <use x=\"63.623047\" xlink:href=\"#DejaVuSans-30\"/>\n       <use x=\"127.246094\" xlink:href=\"#DejaVuSans-30\"/>\n       <use x=\"190.869141\" xlink:href=\"#DejaVuSans-30\"/>\n      </g>\n     </g>\n    </g>\n    <g id=\"ytick_7\">\n     <g id=\"line2d_13\">\n      <g>\n       <use style=\"stroke:#000000;stroke-width:0.8;\" x=\"39.65\" xlink:href=\"#mc1d5f43cc8\" y=\"48.271755\"/>\n      </g>\n     </g>\n     <g id=\"text_13\">\n      <!-- 1200 -->\n      <g transform=\"translate(7.2 52.070974)scale(0.1 -0.1)\">\n       <use xlink:href=\"#DejaVuSans-31\"/>\n       <use x=\"63.623047\" xlink:href=\"#DejaVuSans-32\"/>\n       <use x=\"127.246094\" xlink:href=\"#DejaVuSans-30\"/>\n       <use x=\"190.869141\" xlink:href=\"#DejaVuSans-30\"/>\n      </g>\n     </g>\n    </g>\n    <g id=\"ytick_8\">\n     <g id=\"line2d_14\">\n      <g>\n       <use style=\"stroke:#000000;stroke-width:0.8;\" x=\"39.65\" xlink:href=\"#mc1d5f43cc8\" y=\"18.877048\"/>\n      </g>\n     </g>\n     <g id=\"text_14\">\n      <!-- 1400 -->\n      <g transform=\"translate(7.2 22.676266)scale(0.1 -0.1)\">\n       <use xlink:href=\"#DejaVuSans-31\"/>\n       <use x=\"63.623047\" xlink:href=\"#DejaVuSans-34\"/>\n       <use x=\"127.246094\" xlink:href=\"#DejaVuSans-30\"/>\n       <use x=\"190.869141\" xlink:href=\"#DejaVuSans-30\"/>\n      </g>\n     </g>\n    </g>\n   </g>\n   <g id=\"line2d_15\">\n    <path clip-path=\"url(#p84f8712659)\" d=\"M 132.201898 224.64 \nL 132.201898 7.2 \n\" style=\"fill:none;stroke:#ff0000;stroke-linecap:square;stroke-width:1.5;\"/>\n   </g>\n   <g id=\"line2d_16\">\n    <path clip-path=\"url(#p84f8712659)\" d=\"M 207.067533 224.64 \nL 207.067533 7.2 \n\" style=\"fill:none;stroke:#008000;stroke-linecap:square;stroke-width:1.5;\"/>\n   </g>\n   <g id=\"line2d_17\">\n    <path clip-path=\"url(#p84f8712659)\" d=\"M 102.998555 224.64 \nL 102.998555 7.2 \n\" style=\"fill:none;stroke:#0000ff;stroke-linecap:square;stroke-width:1.5;\"/>\n   </g>\n   <g id=\"patch_63\">\n    <path d=\"M 39.65 224.64 \nL 39.65 7.2 \n\" style=\"fill:none;stroke:#000000;stroke-linecap:square;stroke-linejoin:miter;stroke-width:0.8;\"/>\n   </g>\n   <g id=\"patch_64\">\n    <path d=\"M 374.45 224.64 \nL 374.45 7.2 \n\" style=\"fill:none;stroke:#000000;stroke-linecap:square;stroke-linejoin:miter;stroke-width:0.8;\"/>\n   </g>\n   <g id=\"patch_65\">\n    <path d=\"M 39.65 224.64 \nL 374.45 224.64 \n\" style=\"fill:none;stroke:#000000;stroke-linecap:square;stroke-linejoin:miter;stroke-width:0.8;\"/>\n   </g>\n   <g id=\"patch_66\">\n    <path d=\"M 39.65 7.2 \nL 374.45 7.2 \n\" style=\"fill:none;stroke:#000000;stroke-linecap:square;stroke-linejoin:miter;stroke-width:0.8;\"/>\n   </g>\n   <g id=\"legend_1\">\n    <g id=\"patch_67\">\n     <path d=\"M 296.665625 59.234375 \nL 367.45 59.234375 \nQ 369.45 59.234375 369.45 57.234375 \nL 369.45 14.2 \nQ 369.45 12.2 367.45 12.2 \nL 296.665625 12.2 \nQ 294.665625 12.2 294.665625 14.2 \nL 294.665625 57.234375 \nQ 294.665625 59.234375 296.665625 59.234375 \nz\n\" style=\"fill:#ffffff;opacity:0.8;stroke:#cccccc;stroke-linejoin:miter;\"/>\n    </g>\n    <g id=\"line2d_18\">\n     <path d=\"M 298.665625 20.298438 \nL 318.665625 20.298438 \n\" style=\"fill:none;stroke:#ff0000;stroke-linecap:square;stroke-width:1.5;\"/>\n    </g>\n    <g id=\"line2d_19\"/>\n    <g id=\"text_15\">\n     <!-- random -->\n     <g transform=\"translate(326.665625 23.798438)scale(0.1 -0.1)\">\n      <defs>\n       <path d=\"M 2631 2963 \nQ 2534 3019 2420 3045 \nQ 2306 3072 2169 3072 \nQ 1681 3072 1420 2755 \nQ 1159 2438 1159 1844 \nL 1159 0 \nL 581 0 \nL 581 3500 \nL 1159 3500 \nL 1159 2956 \nQ 1341 3275 1631 3429 \nQ 1922 3584 2338 3584 \nQ 2397 3584 2469 3576 \nQ 2541 3569 2628 3553 \nL 2631 2963 \nz\n\" id=\"DejaVuSans-72\" transform=\"scale(0.015625)\"/>\n       <path d=\"M 2194 1759 \nQ 1497 1759 1228 1600 \nQ 959 1441 959 1056 \nQ 959 750 1161 570 \nQ 1363 391 1709 391 \nQ 2188 391 2477 730 \nQ 2766 1069 2766 1631 \nL 2766 1759 \nL 2194 1759 \nz\nM 3341 1997 \nL 3341 0 \nL 2766 0 \nL 2766 531 \nQ 2569 213 2275 61 \nQ 1981 -91 1556 -91 \nQ 1019 -91 701 211 \nQ 384 513 384 1019 \nQ 384 1609 779 1909 \nQ 1175 2209 1959 2209 \nL 2766 2209 \nL 2766 2266 \nQ 2766 2663 2505 2880 \nQ 2244 3097 1772 3097 \nQ 1472 3097 1187 3025 \nQ 903 2953 641 2809 \nL 641 3341 \nQ 956 3463 1253 3523 \nQ 1550 3584 1831 3584 \nQ 2591 3584 2966 3190 \nQ 3341 2797 3341 1997 \nz\n\" id=\"DejaVuSans-61\" transform=\"scale(0.015625)\"/>\n       <path d=\"M 3513 2113 \nL 3513 0 \nL 2938 0 \nL 2938 2094 \nQ 2938 2591 2744 2837 \nQ 2550 3084 2163 3084 \nQ 1697 3084 1428 2787 \nQ 1159 2491 1159 1978 \nL 1159 0 \nL 581 0 \nL 581 3500 \nL 1159 3500 \nL 1159 2956 \nQ 1366 3272 1645 3428 \nQ 1925 3584 2291 3584 \nQ 2894 3584 3203 3211 \nQ 3513 2838 3513 2113 \nz\n\" id=\"DejaVuSans-6e\" transform=\"scale(0.015625)\"/>\n       <path d=\"M 2906 2969 \nL 2906 4863 \nL 3481 4863 \nL 3481 0 \nL 2906 0 \nL 2906 525 \nQ 2725 213 2448 61 \nQ 2172 -91 1784 -91 \nQ 1150 -91 751 415 \nQ 353 922 353 1747 \nQ 353 2572 751 3078 \nQ 1150 3584 1784 3584 \nQ 2172 3584 2448 3432 \nQ 2725 3281 2906 2969 \nz\nM 947 1747 \nQ 947 1113 1208 752 \nQ 1469 391 1925 391 \nQ 2381 391 2643 752 \nQ 2906 1113 2906 1747 \nQ 2906 2381 2643 2742 \nQ 2381 3103 1925 3103 \nQ 1469 3103 1208 2742 \nQ 947 2381 947 1747 \nz\n\" id=\"DejaVuSans-64\" transform=\"scale(0.015625)\"/>\n       <path d=\"M 1959 3097 \nQ 1497 3097 1228 2736 \nQ 959 2375 959 1747 \nQ 959 1119 1226 758 \nQ 1494 397 1959 397 \nQ 2419 397 2687 759 \nQ 2956 1122 2956 1747 \nQ 2956 2369 2687 2733 \nQ 2419 3097 1959 3097 \nz\nM 1959 3584 \nQ 2709 3584 3137 3096 \nQ 3566 2609 3566 1747 \nQ 3566 888 3137 398 \nQ 2709 -91 1959 -91 \nQ 1206 -91 779 398 \nQ 353 888 353 1747 \nQ 353 2609 779 3096 \nQ 1206 3584 1959 3584 \nz\n\" id=\"DejaVuSans-6f\" transform=\"scale(0.015625)\"/>\n       <path d=\"M 3328 2828 \nQ 3544 3216 3844 3400 \nQ 4144 3584 4550 3584 \nQ 5097 3584 5394 3201 \nQ 5691 2819 5691 2113 \nL 5691 0 \nL 5113 0 \nL 5113 2094 \nQ 5113 2597 4934 2840 \nQ 4756 3084 4391 3084 \nQ 3944 3084 3684 2787 \nQ 3425 2491 3425 1978 \nL 3425 0 \nL 2847 0 \nL 2847 2094 \nQ 2847 2600 2669 2842 \nQ 2491 3084 2119 3084 \nQ 1678 3084 1418 2786 \nQ 1159 2488 1159 1978 \nL 1159 0 \nL 581 0 \nL 581 3500 \nL 1159 3500 \nL 1159 2956 \nQ 1356 3278 1631 3431 \nQ 1906 3584 2284 3584 \nQ 2666 3584 2933 3390 \nQ 3200 3197 3328 2828 \nz\n\" id=\"DejaVuSans-6d\" transform=\"scale(0.015625)\"/>\n      </defs>\n      <use xlink:href=\"#DejaVuSans-72\"/>\n      <use x=\"41.113281\" xlink:href=\"#DejaVuSans-61\"/>\n      <use x=\"102.392578\" xlink:href=\"#DejaVuSans-6e\"/>\n      <use x=\"165.771484\" xlink:href=\"#DejaVuSans-64\"/>\n      <use x=\"229.248047\" xlink:href=\"#DejaVuSans-6f\"/>\n      <use x=\"290.429688\" xlink:href=\"#DejaVuSans-6d\"/>\n     </g>\n    </g>\n    <g id=\"line2d_20\">\n     <path d=\"M 298.665625 34.976562 \nL 318.665625 34.976562 \n\" style=\"fill:none;stroke:#008000;stroke-linecap:square;stroke-width:1.5;\"/>\n    </g>\n    <g id=\"line2d_21\"/>\n    <g id=\"text_16\">\n     <!-- null -->\n     <g transform=\"translate(326.665625 38.476562)scale(0.1 -0.1)\">\n      <defs>\n       <path d=\"M 544 1381 \nL 544 3500 \nL 1119 3500 \nL 1119 1403 \nQ 1119 906 1312 657 \nQ 1506 409 1894 409 \nQ 2359 409 2629 706 \nQ 2900 1003 2900 1516 \nL 2900 3500 \nL 3475 3500 \nL 3475 0 \nL 2900 0 \nL 2900 538 \nQ 2691 219 2414 64 \nQ 2138 -91 1772 -91 \nQ 1169 -91 856 284 \nQ 544 659 544 1381 \nz\nM 1991 3584 \nL 1991 3584 \nz\n\" id=\"DejaVuSans-75\" transform=\"scale(0.015625)\"/>\n       <path d=\"M 603 4863 \nL 1178 4863 \nL 1178 0 \nL 603 0 \nL 603 4863 \nz\n\" id=\"DejaVuSans-6c\" transform=\"scale(0.015625)\"/>\n      </defs>\n      <use xlink:href=\"#DejaVuSans-6e\"/>\n      <use x=\"63.378906\" xlink:href=\"#DejaVuSans-75\"/>\n      <use x=\"126.757812\" xlink:href=\"#DejaVuSans-6c\"/>\n      <use x=\"154.541016\" xlink:href=\"#DejaVuSans-6c\"/>\n     </g>\n    </g>\n    <g id=\"line2d_22\">\n     <path d=\"M 298.665625 49.654688 \nL 318.665625 49.654688 \n\" style=\"fill:none;stroke:#0000ff;stroke-linecap:square;stroke-width:1.5;\"/>\n    </g>\n    <g id=\"line2d_23\"/>\n    <g id=\"text_17\">\n     <!-- opt -->\n     <g transform=\"translate(326.665625 53.154688)scale(0.1 -0.1)\">\n      <defs>\n       <path d=\"M 1159 525 \nL 1159 -1331 \nL 581 -1331 \nL 581 3500 \nL 1159 3500 \nL 1159 2969 \nQ 1341 3281 1617 3432 \nQ 1894 3584 2278 3584 \nQ 2916 3584 3314 3078 \nQ 3713 2572 3713 1747 \nQ 3713 922 3314 415 \nQ 2916 -91 2278 -91 \nQ 1894 -91 1617 61 \nQ 1341 213 1159 525 \nz\nM 3116 1747 \nQ 3116 2381 2855 2742 \nQ 2594 3103 2138 3103 \nQ 1681 3103 1420 2742 \nQ 1159 2381 1159 1747 \nQ 1159 1113 1420 752 \nQ 1681 391 2138 391 \nQ 2594 391 2855 752 \nQ 3116 1113 3116 1747 \nz\n\" id=\"DejaVuSans-70\" transform=\"scale(0.015625)\"/>\n       <path d=\"M 1172 4494 \nL 1172 3500 \nL 2356 3500 \nL 2356 3053 \nL 1172 3053 \nL 1172 1153 \nQ 1172 725 1289 603 \nQ 1406 481 1766 481 \nL 2356 481 \nL 2356 0 \nL 1766 0 \nQ 1100 0 847 248 \nQ 594 497 594 1153 \nL 594 3053 \nL 172 3053 \nL 172 3500 \nL 594 3500 \nL 594 4494 \nL 1172 4494 \nz\n\" id=\"DejaVuSans-74\" transform=\"scale(0.015625)\"/>\n      </defs>\n      <use xlink:href=\"#DejaVuSans-6f\"/>\n      <use x=\"61.181641\" xlink:href=\"#DejaVuSans-70\"/>\n      <use x=\"124.658203\" xlink:href=\"#DejaVuSans-74\"/>\n     </g>\n    </g>\n   </g>\n  </g>\n </g>\n <defs>\n  <clipPath id=\"p84f8712659\">\n   <rect height=\"217.44\" width=\"334.8\" x=\"39.65\" y=\"7.2\"/>\n  </clipPath>\n </defs>\n</svg>\n",
      "image/png": "[encoded data removed]"
     },
     "metadata": {
      "needs_background": "light"
     }
    }
   ],
   "source": [
    "def simulate_policy(policy, startidx):\n",
    "    costs = []\n",
    "    for replica in range(5000):\n",
    "        state = list(np.unravel_index(startidx,tuple([MAXINV]*NITEM)))\n",
    "        cost = 0\n",
    "        for t in range(100):\n",
    "            idx = np.ravel_multi_index(tuple(state),tuple([MAXINV]*NITEM))\n",
    "            action = policy[idx]\n",
    "            \n",
    "            if action == NITEM:\n",
    "                #do nothing\n",
    "                pass\n",
    "            else:\n",
    "                #production\n",
    "                state[action] += PRODUCTION\n",
    "            \n",
    "            #random demand\n",
    "            demand = np.random.choice([0,1,2],NITEM)\n",
    "\n",
    "            state -= demand\n",
    "            unmet_demand = -np.clip(state,-np.inf,0).sum()\n",
    "            assert unmet_demand >= 0\n",
    "            state = np.clip(state,0,MAXINV-1)\n",
    "            assert ((GAMMA**t)*(3*unmet_demand+state.sum())) >= 0\n",
    "            cost += (GAMMA**t)*(3*unmet_demand+state.sum())\n",
    "        costs.append(cost)\n",
    "    return costs\n",
    "\n",
    "null_policy = np.ones(NSTATES, dtype=np.int32)*NITEM\n",
    "random_policy = np.random.choice(list(range(NITEM+1)),NSTATES)\n",
    "plt.hist([simulate_policy(random_policy,24),simulate_policy(null_policy,24),simulate_policy(mu_opt,24)],color=['r','g','b'],bins=20)\n",
    "plt.axvline(assess_policy(random_policy)[-1],color = 'r')\n",
    "plt.axvline(assess_policy(null_policy)[-1],color = 'g')\n",
    "plt.axvline(assess_policy(mu_opt)[-1],color = 'b')\n",
    "plt.legend(labels = ['random','null','opt'])\n",
    "plt.plot()"
   ]
  },
  {
   "cell_type": "code",
   "execution_count": null,
   "metadata": {},
   "outputs": [],
   "source": []
  }
 ]
}